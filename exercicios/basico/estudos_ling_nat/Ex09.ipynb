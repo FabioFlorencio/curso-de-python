{
  "nbformat": 4,
  "nbformat_minor": 0,
  "metadata": {
    "colab": {
      "provenance": []
    },
    "kernelspec": {
      "name": "python3",
      "display_name": "Python 3"
    },
    "language_info": {
      "name": "python"
    }
  },
  "cells": [
    {
      "cell_type": "code",
      "source": [
        "nltk.download('stopwords')\n",
        "import string\n",
        "import nltk\n",
        "from nltk.corpus import stopwords"
      ],
      "metadata": {
        "id": "y_68utHHnEyA"
      },
      "execution_count": null,
      "outputs": []
    },
    {
      "cell_type": "code",
      "execution_count": 5,
      "metadata": {
        "colab": {
          "base_uri": "https://localhost:8080/"
        },
        "id": "kIDSujnBmZn9",
        "outputId": "09fd3275-7f7d-4b83-f8fb-a8ddc079b607"
      },
      "outputs": [
        {
          "output_type": "stream",
          "name": "stdout",
          "text": [
            "Vocabulário sem stopwords:\n",
            "{'plantas', 'cachorro', 'janela', 'sol', 'chuva', 'céu', 'pássaro', 'dormiu', 'parque', 'brilhou', 'forte', 'correu', 'cantou', 'gato', 'sobre', 'suavemente', 'amanhecer', 'caiu'}\n"
          ]
        }
      ],
      "source": [
        "# Corpus de exemplo\n",
        "corpus = [\n",
        "    \"O cachorro correu pelo parque.\",\n",
        "    \"O gato dormiu na janela.\",\n",
        "    \"O pássaro cantou ao amanhecer.\",\n",
        "    \"O sol brilhou forte no céu.\",\n",
        "    \"A chuva caiu suavemente sobre as plantas.\"\n",
        "]\n",
        "\n",
        "# Normaliza o texto para minúsculas e remove pontuações\n",
        "normalized_corpus = [''.join(char.lower() for char in sentence if char not in string.punctuation) for sentence in corpus]\n",
        "\n",
        "# Cria uma lista de tokens\n",
        "tokens = [word for sentence in normalized_corpus for word in sentence.split()]\n",
        "\n",
        "# Cria um vocabulário sem repetições\n",
        "vocabulario = set(tokens)\n",
        "\n",
        "# Remove as stopwords do vocabulário\n",
        "stop_words = set(stopwords.words('portuguese'))\n",
        "vocabulario_sem_stopwords = vocabulario - stop_words\n",
        "\n",
        "print(\"Vocabulário sem stopwords:\")\n",
        "print(vocabulario_sem_stopwords)\n"
      ]
    }
  ]
}